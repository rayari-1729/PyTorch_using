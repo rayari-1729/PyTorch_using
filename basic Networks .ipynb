{
 "cells": [
  {
   "cell_type": "code",
   "execution_count": 10,
   "id": "d0457e21",
   "metadata": {},
   "outputs": [],
   "source": [
    "import torch \n",
    "import torch.nn as nn \n",
    "from torch.optim import SGD\n",
    "import numpy as np \n",
    "import matplotlib.pyplot as plt \n",
    "import time "
   ]
  },
  {
   "cell_type": "markdown",
   "id": "3f3bf714",
   "metadata": {},
   "source": [
    "Suppose one has data that consists of an independent vector and a dependent vector $x_i$ and $y_i$ (i is the i'th value  in the data set ) .For example :\n",
    "\n",
    "   * $x_i$ is the height of the th person, and  is their weight (predict weight using height)\n",
    "   * $x_i$ is a picture of a handwritten digit, and  is the digit itself (predict numbers from hand written numbers)\n",
    "   * $x_i$ is a CT scan of a patient, and  are the corresponding pixels corresponding to tumours (my research)\n",
    "   \n",
    "The goal of a neural network is as follows. Define a function $f$  that depends on parameters  that makes predictions   \n",
    "                                                $$\\hat{y_i} = f(x_i;a)$$\n",
    "One wants to make  $y_i$ (the predictions) and $y_i$ (the true values) as close as possible by modifying the values of a. What does as close as possible mean? This depends on the task. In general, one defines a similarity function (or Loss function) $L(y,\\hat{y})$. The more similar all the $y_i$s and $\\hat{y_i}$s are, the smaller  should be. For example , this could be as simple as                                                \n",
    "$$L(y,\\hat{y}) = \\sum_i(y_i-\\hat{y_i})^2$$"
   ]
  },
  {
   "cell_type": "code",
   "execution_count": 11,
   "id": "bf34f576",
   "metadata": {},
   "outputs": [],
   "source": [
    "x = torch.tensor([[6,2],[5,2],[1,3],[7,6]]).float()\n",
    "y = torch.tensor([1,5,2,5]).float()"
   ]
  },
  {
   "cell_type": "code",
   "execution_count": 12,
   "id": "5b5a26ad",
   "metadata": {},
   "outputs": [
    {
     "data": {
      "text/plain": [
       "tensor([[6., 2.],\n",
       "        [5., 2.],\n",
       "        [1., 3.],\n",
       "        [7., 6.]])"
      ]
     },
     "execution_count": 12,
     "metadata": {},
     "output_type": "execute_result"
    }
   ],
   "source": [
    "x"
   ]
  },
  {
   "cell_type": "markdown",
   "id": "0c8802c9",
   "metadata": {},
   "source": [
    "*  $x_1 = (6,2),x_2=(5,2)$\n",
    "*  $y_1 = 1,y_2 = 5$\n",
    "\n",
    "We want to find a function $f$ that depends on parameters $a$ that lets us get from $x$ to $y$.\n",
    "\n",
    "**Idea**\n",
    "\n",
    "   1. First multiply each element in x by a $8 \\times 2$  matrix (this is 16 parameters )\n",
    "   2. Then multiply each element in x by a $1\\times 8$ matrix (this is 8 parameters )\n",
    "   \n",
    "Define a matrix (takes in a 2d vector and returns a 8d vector).   \n",
    "* **IMPORTANT: When the matrix is created, it is initially created with random values.**"
   ]
  },
  {
   "cell_type": "code",
   "execution_count": 13,
   "id": "291c1aae",
   "metadata": {},
   "outputs": [
    {
     "data": {
      "text/plain": [
       "Linear(in_features=2, out_features=8, bias=False)"
      ]
     },
     "execution_count": 13,
     "metadata": {},
     "output_type": "execute_result"
    }
   ],
   "source": [
    "M1 = nn.Linear(2,8,bias=False)  ## Not taking bias here i.e b is not here \n",
    "M1"
   ]
  },
  {
   "cell_type": "markdown",
   "id": "1057bad8",
   "metadata": {},
   "source": [
    "If one passes in a vector $x$ (the dataset) where each element $x_i$ (an instance) is a 2d vector, $M$ will apply the same matrix multiplication to each element $x_i$."
   ]
  },
  {
   "cell_type": "code",
   "execution_count": 14,
   "id": "053039f1",
   "metadata": {},
   "outputs": [
    {
     "data": {
      "text/plain": [
       "tensor([[-3.0580, -0.7191,  3.2259, -3.3918, -0.1126,  1.7774, -0.2962, -2.0141],\n",
       "        [-2.5387, -0.4994,  2.7067, -3.0371,  0.1139,  1.2807, -0.1369, -1.4844],\n",
       "        [-0.4325,  0.6788,  0.6851, -2.2503,  1.6430, -1.3078,  0.8296,  1.2166],\n",
       "        [-3.4615,  0.2592,  3.9663, -6.2740,  2.1535, -0.1318,  0.8631, -0.2154]],\n",
       "       grad_fn=<MmBackward0>)"
      ]
     },
     "execution_count": 14,
     "metadata": {},
     "output_type": "execute_result"
    }
   ],
   "source": [
    "M1(x)"
   ]
  },
  {
   "cell_type": "markdown",
   "id": "77db7fcd",
   "metadata": {},
   "source": [
    "We can chain this with a second matrix  **M2**"
   ]
  },
  {
   "cell_type": "code",
   "execution_count": 15,
   "id": "04305de3",
   "metadata": {},
   "outputs": [
    {
     "data": {
      "text/plain": [
       "Linear(in_features=8, out_features=1, bias=False)"
      ]
     },
     "execution_count": 15,
     "metadata": {},
     "output_type": "execute_result"
    }
   ],
   "source": [
    "M2 = nn.Linear(8,1, bias=False)\n",
    "M2"
   ]
  },
  {
   "cell_type": "code",
   "execution_count": 16,
   "id": "316c48df",
   "metadata": {},
   "outputs": [
    {
     "data": {
      "text/plain": [
       "tensor([[1.4823],\n",
       "        [1.3598],\n",
       "        [1.2439],\n",
       "        [3.1000]], grad_fn=<MmBackward0>)"
      ]
     },
     "execution_count": 16,
     "metadata": {},
     "output_type": "execute_result"
    }
   ],
   "source": [
    "M2(M1(x)) "
   ]
  },
  {
   "cell_type": "markdown",
   "id": "2485ef78",
   "metadata": {},
   "source": [
    "M2(M1(x)) have extra dimension hence we apply squeeze() to get same shape"
   ]
  },
  {
   "cell_type": "code",
   "execution_count": 17,
   "id": "da583f3f",
   "metadata": {},
   "outputs": [
    {
     "data": {
      "text/plain": [
       "tensor([1.4823, 1.3598, 1.2439, 3.1000], grad_fn=<SqueezeBackward0>)"
      ]
     },
     "execution_count": 17,
     "metadata": {},
     "output_type": "execute_result"
    }
   ],
   "source": [
    "M2(M1(x)).squeeze()"
   ]
  },
  {
   "cell_type": "code",
   "execution_count": 18,
   "id": "6e3739a2",
   "metadata": {},
   "outputs": [
    {
     "data": {
      "text/plain": [
       "tensor([1., 5., 2., 5.])"
      ]
     },
     "execution_count": 18,
     "metadata": {},
     "output_type": "execute_result"
    }
   ],
   "source": [
    "y"
   ]
  },
  {
   "cell_type": "markdown",
   "id": "66f22e72",
   "metadata": {},
   "source": [
    "The weights of the matrices M1 and M2 consitute the weights **a**  of the network defined above. In order to optimize for these weights, we first construct our network **f** as follows:"
   ]
  },
  {
   "cell_type": "code",
   "execution_count": 19,
   "id": "ec926938",
   "metadata": {},
   "outputs": [],
   "source": [
    "class MyNeuralNet(nn.Module):\n",
    "    def __init__(self):\n",
    "        super().__init__()\n",
    "        self.Matrix1 = nn.Linear(2,8,bias=False)\n",
    "        self.Matrix2 = nn.Linear(8,1,bias=False)\n",
    "    def forward(self,x):\n",
    "        x = self.Matrix1(x)\n",
    "        x = self.Matrix2(x)\n",
    "        return x.squeeze()"
   ]
  },
  {
   "cell_type": "markdown",
   "id": "4aa6c9c0",
   "metadata": {},
   "source": [
    "Constructing the network using a subclass of the nn.Module allows the parameters of the network to be conveniently stored. This will be useful later when we need to adjust them."
   ]
  },
  {
   "cell_type": "code",
   "execution_count": 20,
   "id": "da60cd7a",
   "metadata": {},
   "outputs": [],
   "source": [
    "f = MyNeuralNet()"
   ]
  },
  {
   "cell_type": "markdown",
   "id": "7041ace1",
   "metadata": {},
   "source": [
    "Pass in data to the network."
   ]
  },
  {
   "cell_type": "code",
   "execution_count": 21,
   "id": "076a8d5f",
   "metadata": {},
   "outputs": [
    {
     "data": {
      "text/plain": [
       "tensor([-2.1668, -1.8191, -0.4687, -2.6758], grad_fn=<SqueezeBackward0>)"
      ]
     },
     "execution_count": 21,
     "metadata": {},
     "output_type": "execute_result"
    }
   ],
   "source": [
    "yhat = f(x)\n",
    "yhat"
   ]
  },
  {
   "cell_type": "code",
   "execution_count": 22,
   "id": "be5679ef",
   "metadata": {},
   "outputs": [
    {
     "data": {
      "text/plain": [
       "tensor([1., 5., 2., 5.])"
      ]
     },
     "execution_count": 22,
     "metadata": {},
     "output_type": "execute_result"
    }
   ],
   "source": [
    "y"
   ]
  },
  {
   "cell_type": "markdown",
   "id": "5d61d962",
   "metadata": {},
   "source": [
    "## Now we are  adjusting $a$ so that $\\hat{y}$ and $y$ are similar\n",
    "\n",
    "Now we define the loss function $L$ , which provides a metric of similarity between $y$ and $\\hat{y}$\n",
    ". In this case, we will use the mean squared error loss function:"
   ]
  },
  {
   "cell_type": "code",
   "execution_count": 23,
   "id": "058c6342",
   "metadata": {},
   "outputs": [
    {
     "data": {
      "text/plain": [
       "tensor(30.3854, grad_fn=<MseLossBackward0>)"
      ]
     },
     "execution_count": 23,
     "metadata": {},
     "output_type": "execute_result"
    }
   ],
   "source": [
    "L = nn.MSELoss()\n",
    "L(y,yhat)"
   ]
  },
  {
   "cell_type": "markdown",
   "id": "59b9f308",
   "metadata": {},
   "source": [
    "Confirming it is doing the same as the regular mean-squared error:"
   ]
  },
  {
   "cell_type": "code",
   "execution_count": 24,
   "id": "10b5b5ff",
   "metadata": {},
   "outputs": [
    {
     "data": {
      "text/plain": [
       "tensor(30.3854, grad_fn=<MeanBackward0>)"
      ]
     },
     "execution_count": 24,
     "metadata": {},
     "output_type": "execute_result"
    }
   ],
   "source": [
    "torch.mean((y-yhat)**2)"
   ]
  },
  {
   "cell_type": "markdown",
   "id": "aeccb236",
   "metadata": {},
   "source": [
    "Note that $L$ depends on $a$, since our predictions $\\hat{y}$\n",
    " depend on the parameters of the network a . In this sense, $L=L(a)$ . The main idea behind machine learning is to compute\n",
    " \n",
    " $$\\frac{\\partial L}{\\partial a_i}$$\n",
    " \n",
    " for each parameter $a_i$ of the network . Then we adjust each parameter as follows \n",
    " \n",
    " $$a_i \\to a_i - l\\frac{\\partial L}{\\partial a_i}$$\n",
    " where $l$ is the learning rate .\n",
    " \n",
    " The idea is to do this over and over again, until one reaches a minimum for $L$. This is called gradient descent.\n",
    " \n",
    " * Each pass of the full data set $x$ is called an epoch. In this case, we are evaluating $\\frac{\\partial L}{\\partial a_i}$ on the entire dataset $x$ each time we iterate $a_i \\to a_i - l\\frac{\\partial L}{\\partial a_i}$ , so each iteration corresponds to an epoch.\n",
    " \n",
    "The SGD(meaning stochastic gradient descent) takes in all model parameters $a$ along with the learning rate $l$"
   ]
  },
  {
   "cell_type": "code",
   "execution_count": 25,
   "id": "d0d5f3bf",
   "metadata": {},
   "outputs": [],
   "source": [
    "opt = SGD(f.parameters(), lr=0.001)"
   ]
  },
  {
   "cell_type": "code",
   "execution_count": 26,
   "id": "03508755",
   "metadata": {},
   "outputs": [],
   "source": [
    "losses = []\n",
    "for _ in range(50):\n",
    "    opt.zero_grad() # flush previous epoch's gradient\n",
    "    loss_value = L(f(x), y) #compute loss\n",
    "    loss_value.backward() # compute gradient ; computes dloss/dx for every parameter x which has requires_grad=True\n",
    "    opt.step() # Perform iteration using gradient above ; this thing updates the value of x using the gradient x.grad. For example, the SGD optimizer performs: x += -lr * x.grad\n",
    "    losses.append(loss_value.item())"
   ]
  },
  {
   "cell_type": "markdown",
   "id": "f437c240",
   "metadata": {},
   "source": [
    "**Explaination:** loss.backward() computes dloss/dx for every parameter x which has requires_grad=True. These are accumulated into x.grad for every parameter x. In pseudo-code:\n",
    "\n",
    "x.grad += dloss/dx\n",
    "optimizer.step updates the value of x using the gradient x.grad. For example, the SGD optimizer performs:\n",
    "\n",
    "x += -lr * x.grad\n",
    "optimizer.zero_grad() clears x.grad for every parameter x in the optimizer. It’s important to call this before loss.backward(), otherwise you’ll accumulate the gradients from multiple passes.\n",
    "\n",
    "If you have multiple losses (loss1, loss2) you can sum them and then call backwards once:\n",
    "\n",
    "loss3 = loss1 + loss2\n",
    "loss3.backward()"
   ]
  },
  {
   "cell_type": "code",
   "execution_count": 29,
   "id": "7d14832b",
   "metadata": {},
   "outputs": [
    {
     "data": {
      "text/plain": [
       "Text(0.5, 0, 'Epochs')"
      ]
     },
     "execution_count": 29,
     "metadata": {},
     "output_type": "execute_result"
    },
    {
     "data": {
      "image/png": "[encoded data removed]",
      "text/plain": [
       "<Figure size 432x288 with 1 Axes>"
      ]
     },
     "metadata": {
      "needs_background": "light"
     },
     "output_type": "display_data"
    }
   ],
   "source": [
    "plt.plot(losses)\n",
    "plt.ylabel('Loss $L(y,\\hat{y};a)$')\n",
    "plt.xlabel('Epochs')"
   ]
  },
  {
   "cell_type": "markdown",
   "id": "85ac4325",
   "metadata": {},
   "source": [
    "This is as close as we can make the model  predict  from :"
   ]
  },
  {
   "cell_type": "code",
   "execution_count": 30,
   "id": "79896896",
   "metadata": {},
   "outputs": [
    {
     "data": {
      "text/plain": [
       "tensor([2.8634, 2.5563, 1.8384, 5.2122], grad_fn=<SqueezeBackward0>)"
      ]
     },
     "execution_count": 30,
     "metadata": {},
     "output_type": "execute_result"
    }
   ],
   "source": [
    "f(x)"
   ]
  },
  {
   "cell_type": "code",
   "execution_count": 31,
   "id": "737a0141",
   "metadata": {},
   "outputs": [
    {
     "data": {
      "text/plain": [
       "tensor([1., 5., 2., 5.])"
      ]
     },
     "execution_count": 31,
     "metadata": {},
     "output_type": "execute_result"
    }
   ],
   "source": [
    "y"
   ]
  },
  {
   "cell_type": "code",
   "execution_count": null,
   "id": "604976fa",
   "metadata": {},
   "outputs": [],
   "source": []
  }
 ],
 "metadata": {
  "kernelspec": {
   "display_name": "Python 3 (ipykernel)",
   "language": "python",
   "name": "python3"
  },
  "language_info": {
   "codemirror_mode": {
    "name": "ipython",
    "version": 3
   },
   "file_extension": ".py",
   "mimetype": "text/x-python",
   "name": "python",
   "nbconvert_exporter": "python",
   "pygments_lexer": "ipython3",
   "version": "3.9.12"
  }
 },
 "nbformat": 4,
 "nbformat_minor": 5
}
