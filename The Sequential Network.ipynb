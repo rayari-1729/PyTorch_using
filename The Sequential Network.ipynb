{
  "nbformat": 4,
  "nbformat_minor": 0,
  "metadata": {
    "colab": {
      "provenance": []
    },
    "kernelspec": {
      "name": "python3",
      "display_name": "Python 3"
    },
    "language_info": {
      "name": "python"
    }
  },
  "cells": [
    {
      "cell_type": "code",
      "execution_count": null,
      "metadata": {
        "id": "KmpECzXCUZ_a"
      },
      "outputs": [],
      "source": [
        "import torch\n",
        "import torch.nn as nn\n",
        "from torch.optim import SGD\n",
        "import numpy as np\n",
        "import matplotlib.pyplot as plt"
      ]
    },
    {
      "cell_type": "markdown",
      "source": [
        "Given $4$ data points $(x_i,y_i)$  and wanted to find a function $f$ such that $f(x_i) = y_i$. Since each $x_i$ was a vector of length $2$, we chose the function\n",
        " $$f(x) = A_1(A_2(x))$$\n",
        "where  $A_1$ is a $8 \\times 2$ matrix and $A_2$ is a $1\\times 8$ matrix. This means there were  $16+8$ free parameters. This simple function did not do a very good job of making $f(x_i) = y_i$."
      ],
      "metadata": {
        "id": "oNoEY6IhVojm"
      }
    },
    {
      "cell_type": "code",
      "source": [
        "x = torch.tensor([[6,2],[5,2],[1,3],[7,6]]).float()\n",
        "y = torch.tensor([1,5,2,5]).float()\n",
        "\n",
        "class MyNeuralNet(nn.Module):\n",
        "    def __init__(self):\n",
        "        super().__init__()\n",
        "        self.Matrix1 = nn.Linear(2,8,bias=False)\n",
        "        self.Matrix2 = nn.Linear(8,1,bias=False)\n",
        "    def forward(self,x):\n",
        "        x = self.Matrix1(x)\n",
        "        x = self.Matrix2(x)\n",
        "        return x.squeeze()\n",
        "    \n",
        "f = MyNeuralNet()\n",
        "opt = SGD(f.parameters(), lr=0.001)\n",
        "L = nn.MSELoss()\n",
        "\n",
        "# Train model\n",
        "losses = []\n",
        "for _ in range(50):\n",
        "    opt.zero_grad() # flush previous epoch's gradient\n",
        "    loss_value = L(f(x), y) #compute loss\n",
        "    loss_value.backward() # compute gradient\n",
        "    opt.step() # Perform iteration using gradient above\n",
        "    losses.append(loss_value.item())"
      ],
      "metadata": {
        "id": "_nQt1ZQ_VRVK"
      },
      "execution_count": null,
      "outputs": []
    },
    {
      "cell_type": "code",
      "source": [
        "y"
      ],
      "metadata": {
        "colab": {
          "base_uri": "https://localhost:8080/"
        },
        "id": "Bq0UP5naWxp6",
        "outputId": "4cc42072-9f1c-4eda-e929-6f96ed527118"
      },
      "execution_count": null,
      "outputs": [
        {
          "output_type": "execute_result",
          "data": {
            "text/plain": [
              "tensor([1., 5., 2., 5.])"
            ]
          },
          "metadata": {},
          "execution_count": 3
        }
      ]
    },
    {
      "cell_type": "code",
      "source": [
        "f(x)"
      ],
      "metadata": {
        "colab": {
          "base_uri": "https://localhost:8080/"
        },
        "id": "gHZ-uJY4XYbA",
        "outputId": "bbf2fbbd-9915-4d91-9679-84e6d88420d5"
      },
      "execution_count": null,
      "outputs": [
        {
          "output_type": "execute_result",
          "data": {
            "text/plain": [
              "tensor([3.5283, 2.9805, 0.9094, 4.5583], grad_fn=<SqueezeBackward0>)"
            ]
          },
          "metadata": {},
          "execution_count": 4
        }
      ]
    },
    {
      "cell_type": "markdown",
      "source": [
        "As it turns out, our previous model was not very good at all. In fact, although there were $24$ parameters in the two matrices, there was technically only **two** independent parameters. This is because \n",
        "$$A_2A_1 = B $$ \n",
        "where $B $ is a $2\\times 1 $ matrix. So really our function was $f(x) = Bx $\n",
        "\n",
        "#How can we use this simplicity of linear algebra but have advanced models? \n",
        "\n",
        "The Crux of Machine Learning: This lies in so-called activation functions, which add ever-so-slight non-linearities to a sequence of matrix transformations. Instead of the transformation\n",
        "\n",
        "$$\\text{Old Model :} f(x) = A_2A_1x$$\n",
        "consider instead \n",
        "$$\\text{New Model :}f_2(x) = A_2R(A_1x)$$\n",
        "Where $R$ is an elementwise operator defined by \n",
        "$$R(x) = \\begin{cases} x &x>0 \\\\ 0 & x\\le 0\n",
        "   \\end{cases} $$\n",
        "\n",
        "   So $R$ is an Identity funbction if $x>0$ but set values equal to zero . Thgis is **so-close** to being a linear operator , but it ia not . "
      ],
      "metadata": {
        "id": "fIxcB7ZPXfEu"
      }
    },
    {
      "cell_type": "code",
      "source": [
        "x = torch.tensor([[4,6,2,-1,6,2,5],[1,6,2,-6,5,-3,5]])\n",
        "x"
      ],
      "metadata": {
        "id": "Zyq0M73JXZuf",
        "colab": {
          "base_uri": "https://localhost:8080/"
        },
        "outputId": "d3a2c25c-7718-4cc9-d964-5d26ec55a2c1"
      },
      "execution_count": null,
      "outputs": [
        {
          "output_type": "execute_result",
          "data": {
            "text/plain": [
              "tensor([[ 4,  6,  2, -1,  6,  2,  5],\n",
              "        [ 1,  6,  2, -6,  5, -3,  5]])"
            ]
          },
          "metadata": {},
          "execution_count": 5
        }
      ]
    },
    {
      "cell_type": "code",
      "source": [
        "R = nn.ReLU()\n",
        "R(x)"
      ],
      "metadata": {
        "colab": {
          "base_uri": "https://localhost:8080/"
        },
        "id": "kAYtNDupdC5r",
        "outputId": "e8057d85-71bc-4301-cf7f-8f937f2fc1e7"
      },
      "execution_count": null,
      "outputs": [
        {
          "output_type": "execute_result",
          "data": {
            "text/plain": [
              "tensor([[4, 6, 2, 0, 6, 2, 5],\n",
              "        [1, 6, 2, 0, 5, 0, 5]])"
            ]
          },
          "metadata": {},
          "execution_count": 6
        }
      ]
    },
    {
      "cell_type": "markdown",
      "source": [
        "**Another example**"
      ],
      "metadata": {
        "id": "KJFtEgU0dI5W"
      }
    },
    {
      "cell_type": "code",
      "source": [
        "x = torch.linspace(-3,3,100)\n",
        "y = R(x)"
      ],
      "metadata": {
        "id": "JjK2rGvWdEPA"
      },
      "execution_count": null,
      "outputs": []
    },
    {
      "cell_type": "code",
      "source": [
        "y"
      ],
      "metadata": {
        "colab": {
          "base_uri": "https://localhost:8080/"
        },
        "id": "qfuHyeO4dL3h",
        "outputId": "888dcd78-cdcd-4089-fcc7-eb51608fe6aa"
      },
      "execution_count": null,
      "outputs": [
        {
          "output_type": "execute_result",
          "data": {
            "text/plain": [
              "tensor([0.0000, 0.0000, 0.0000, 0.0000, 0.0000, 0.0000, 0.0000, 0.0000, 0.0000,\n",
              "        0.0000, 0.0000, 0.0000, 0.0000, 0.0000, 0.0000, 0.0000, 0.0000, 0.0000,\n",
              "        0.0000, 0.0000, 0.0000, 0.0000, 0.0000, 0.0000, 0.0000, 0.0000, 0.0000,\n",
              "        0.0000, 0.0000, 0.0000, 0.0000, 0.0000, 0.0000, 0.0000, 0.0000, 0.0000,\n",
              "        0.0000, 0.0000, 0.0000, 0.0000, 0.0000, 0.0000, 0.0000, 0.0000, 0.0000,\n",
              "        0.0000, 0.0000, 0.0000, 0.0000, 0.0000, 0.0303, 0.0909, 0.1515, 0.2121,\n",
              "        0.2727, 0.3333, 0.3939, 0.4545, 0.5152, 0.5758, 0.6364, 0.6970, 0.7576,\n",
              "        0.8182, 0.8788, 0.9394, 1.0000, 1.0606, 1.1212, 1.1818, 1.2424, 1.3030,\n",
              "        1.3636, 1.4242, 1.4848, 1.5455, 1.6061, 1.6667, 1.7273, 1.7879, 1.8485,\n",
              "        1.9091, 1.9697, 2.0303, 2.0909, 2.1515, 2.2121, 2.2727, 2.3333, 2.3939,\n",
              "        2.4545, 2.5152, 2.5758, 2.6364, 2.6970, 2.7576, 2.8182, 2.8788, 2.9394,\n",
              "        3.0000])"
            ]
          },
          "metadata": {},
          "execution_count": 8
        }
      ]
    },
    {
      "cell_type": "code",
      "source": [
        "plt.plot(x.numpy(), y.numpy())\n",
        "plt.grid()\n",
        "plt.show()"
      ],
      "metadata": {
        "colab": {
          "base_uri": "https://localhost:8080/",
          "height": 265
        },
        "id": "Q8Q14KB5dNFv",
        "outputId": "1ba6fd46-7b7a-4ef1-da80-a7c2e7c68551"
      },
      "execution_count": null,
      "outputs": [
        {
          "output_type": "display_data",
          "data": {
            "text/plain": [
              "<Figure size 432x288 with 1 Axes>"
            ],
            "image/png": "[encoded data removed]"
          },
          "metadata": {
            "needs_background": "light"
          }
        }
      ]
    },
    {
      "cell_type": "markdown",
      "source": [
        "Now question is **How much better does our model do with this simple adjustment?**"
      ],
      "metadata": {
        "id": "poWD6anpdVbG"
      }
    },
    {
      "cell_type": "code",
      "source": [
        "class MyNeuralNet2(nn.Module):\n",
        "    def __init__(self):\n",
        "        super().__init__()\n",
        "        self.Matrix1 = nn.Linear(2,8,bias=False)\n",
        "        self.Matrix2 = nn.Linear(8,1,bias=False)\n",
        "        self.R = nn.ReLU()   ## This is the only difference \n",
        "    def forward(self,x):\n",
        "        x = self.R(self.Matrix1(x))\n",
        "        x = self.Matrix2(x)\n",
        "        return x.squeeze()"
      ],
      "metadata": {
        "id": "N7oDyq5EdQvA"
      },
      "execution_count": null,
      "outputs": []
    },
    {
      "cell_type": "markdown",
      "source": [
        "Train model (lets write a function to do this, since we'll be doing it a lot)"
      ],
      "metadata": {
        "id": "GJ32yf2Hdlb2"
      }
    },
    {
      "cell_type": "code",
      "source": [
        "def train_model(x,y,f, n_epochs=50):\n",
        "    opt = SGD(f.parameters(), lr=0.001) #Optimizer \n",
        "    L = nn.MSELoss()                    # Loss function \n",
        "\n",
        "    # Train model\n",
        "    losses = []\n",
        "    for _ in range(n_epochs):\n",
        "        opt.zero_grad() # flush previous epoch's gradient\n",
        "        loss_value = L(f(x), y) #compute loss\n",
        "        loss_value.backward() # compute gradient\n",
        "        opt.step() # Perform iteration using gradient above\n",
        "        losses.append(loss_value.item())\n",
        "    return f, losses"
      ],
      "metadata": {
        "id": "Yo5KFJIAdako"
      },
      "execution_count": null,
      "outputs": []
    },
    {
      "cell_type": "code",
      "source": [
        "x = torch.tensor([[6,2],[5,2],[1,3],[7,6]]).float()\n",
        "y = torch.tensor([1,5,2,5]).float()\n",
        "f2 = MyNeuralNet2()\n",
        "\n",
        "# Train model\n",
        "f2, losses2 = train_model(x,y,f2, n_epochs=5000)"
      ],
      "metadata": {
        "id": "eGWt1EXldnU4"
      },
      "execution_count": null,
      "outputs": []
    },
    {
      "cell_type": "code",
      "source": [
        "y"
      ],
      "metadata": {
        "colab": {
          "base_uri": "https://localhost:8080/"
        },
        "id": "Q-l0bqtedy8w",
        "outputId": "29a9cefa-2b28-4272-f426-8c20a90753f4"
      },
      "execution_count": null,
      "outputs": [
        {
          "output_type": "execute_result",
          "data": {
            "text/plain": [
              "tensor([1., 5., 2., 5.])"
            ]
          },
          "metadata": {},
          "execution_count": 14
        }
      ]
    },
    {
      "cell_type": "code",
      "source": [
        "f(x)"
      ],
      "metadata": {
        "colab": {
          "base_uri": "https://localhost:8080/"
        },
        "id": "dPwVPuL4d2RI",
        "outputId": "eec1d597-4ee5-43ad-9979-6ce8c2f064f7"
      },
      "execution_count": null,
      "outputs": [
        {
          "output_type": "execute_result",
          "data": {
            "text/plain": [
              "tensor([3.5283, 2.9805, 0.9094, 4.5583], grad_fn=<SqueezeBackward0>)"
            ]
          },
          "metadata": {},
          "execution_count": 15
        }
      ]
    },
    {
      "cell_type": "markdown",
      "source": [
        "Slightly better. But the real advantage of this slight non-linearity is that we can make our matrices much larger. **Lets make our matrices size $80 \\times 2 $ and  $1 \\times 80 $**. This **only** works because of our non-linearity function $R(x)$:\n",
        "\n",
        "\n",
        " * Without $R(X)$ , we would just have $A_2A_1 = B$ and so $f(x)=Bx$ where $B$ is still a $1\\times 2$ matrix even though $A_2$ and $A_1$ are larger matrices. The non-linearlity function $R(x)$  , to some extent , makes all $240$ parameters more independent from each other .\n",
        "\n",
        " $$\\text{Old Model :} f(x) = A_2R(A_1x) \\, , A_2 \\, is \\, 1\\times 8 \\, and \\, A_1 \\, is \\, 8 \\times 2 \\\\ \\text{New Model:} f_3(x) = A_2R(A_1x)\\, , A_2 \\, is \\, 1\\times 80 \\, and \\, A_1 \\, is \\, 80 \\times 2$$ "
      ],
      "metadata": {
        "id": "wYJFQNJpd9h-"
      }
    },
    {
      "cell_type": "code",
      "source": [
        "class MyNeuralNet3(nn.Module):\n",
        "    def __init__(self):\n",
        "        super().__init__()\n",
        "        self.Matrix1 = nn.Linear(2,80, bias=False)\n",
        "        self.Matrix2 = nn.Linear(80,1, bias=False)\n",
        "        self.R = nn.ReLU()\n",
        "    def forward(self,x):\n",
        "        x = self.R(self.Matrix1(x))\n",
        "        x = self.Matrix2(x)\n",
        "        return x.squeeze()"
      ],
      "metadata": {
        "id": "wQBoqkjxd49w"
      },
      "execution_count": null,
      "outputs": []
    },
    {
      "cell_type": "markdown",
      "source": [
        "Train model:"
      ],
      "metadata": {
        "id": "NHe-mP0Rpp6J"
      }
    },
    {
      "cell_type": "code",
      "source": [
        "x = torch.tensor([[6,2],[5,2],[1,3],[7,6]]).float()\n",
        "y = torch.tensor([1,5,2,5]).float()\n",
        "f3 = MyNeuralNet3()\n",
        "\n",
        "# Train model\n",
        "f3, losses3 = train_model(x,y,f3, n_epochs=5000)"
      ],
      "metadata": {
        "id": "1aeiTjrxpoYi"
      },
      "execution_count": null,
      "outputs": []
    },
    {
      "cell_type": "code",
      "source": [
        "y"
      ],
      "metadata": {
        "colab": {
          "base_uri": "https://localhost:8080/"
        },
        "id": "smGA2Rdqpr5q",
        "outputId": "7a2692a0-6f45-4cd6-a278-e81e4cb51280"
      },
      "execution_count": null,
      "outputs": [
        {
          "output_type": "execute_result",
          "data": {
            "text/plain": [
              "tensor([1., 5., 2., 5.])"
            ]
          },
          "metadata": {},
          "execution_count": 18
        }
      ]
    },
    {
      "cell_type": "code",
      "source": [
        "f3(x)"
      ],
      "metadata": {
        "colab": {
          "base_uri": "https://localhost:8080/"
        },
        "id": "GxmUZGVfptXJ",
        "outputId": "a506ccf1-ba30-4d63-ed89-aa2205c71981"
      },
      "execution_count": null,
      "outputs": [
        {
          "output_type": "execute_result",
          "data": {
            "text/plain": [
              "tensor([1.8996, 3.7738, 1.9274, 5.1135], grad_fn=<SqueezeBackward0>)"
            ]
          },
          "metadata": {},
          "execution_count": 19
        }
      ]
    },
    {
      "cell_type": "markdown",
      "source": [
        "Closer, but still not exact. We can make our model better by introducing other parameters:\n",
        "$$f(x) =A_2R(A_1x+b_1)+b_2$$\n",
        "where $b_1$ and $b_2$ are vectors added to each of the linear transformations.\n",
        "\n",
        " $$\\text{Old Model :} f_3(x) = A_2R(A_1x)\\, , A_2 \\, is \\, 1\\times 80 \\, and \\, A_1 \\, is \\, 80 \\times 2 \\\\ \\text{New Model:} f_4(x) =A_2R(A_1x+b_1)+b_2\\, , A_2 \\, is \\, 1\\times 80 \\, and \\, A_1 \\, is \\, 80 \\times 2$$ "
      ],
      "metadata": {
        "id": "fVg-b32Opx5u"
      }
    },
    {
      "cell_type": "code",
      "source": [
        "class MyNeuralNet4(nn.Module):\n",
        "    def __init__(self):\n",
        "        super().__init__()\n",
        "        self.Matrix1 = nn.Linear(2,80)\n",
        "        self.Matrix2 = nn.Linear(80,1)\n",
        "        self.R = nn.ReLU()\n",
        "    def forward(self,x):\n",
        "        x = self.R(self.Matrix1(x))\n",
        "        x = self.Matrix2(x)\n",
        "        return x.squeeze()"
      ],
      "metadata": {
        "id": "yGGNF1AapvXa"
      },
      "execution_count": null,
      "outputs": []
    },
    {
      "cell_type": "code",
      "source": [
        "x = torch.tensor([[6,2],[5,2],[1,3],[7,6]]).float()\n",
        "y = torch.tensor([1,5,2,5]).float()\n",
        "f4 = MyNeuralNet4()\n",
        "\n",
        "# Train model\n",
        "f4, losses4 = train_model(x,y,f4, n_epochs=5000)"
      ],
      "metadata": {
        "id": "1n472QmKql0i"
      },
      "execution_count": null,
      "outputs": []
    },
    {
      "cell_type": "code",
      "source": [
        "y"
      ],
      "metadata": {
        "colab": {
          "base_uri": "https://localhost:8080/"
        },
        "id": "kXxDCxKqqn6Z",
        "outputId": "829f25c0-4f41-4069-ff77-fa102c1af8a2"
      },
      "execution_count": null,
      "outputs": [
        {
          "output_type": "execute_result",
          "data": {
            "text/plain": [
              "tensor([1., 5., 2., 5.])"
            ]
          },
          "metadata": {},
          "execution_count": 22
        }
      ]
    },
    {
      "cell_type": "code",
      "source": [
        "f4(x)"
      ],
      "metadata": {
        "colab": {
          "base_uri": "https://localhost:8080/"
        },
        "id": "L3fzR4v4qpJh",
        "outputId": "1e2c7228-edf9-4089-a434-0d323a30435e"
      },
      "execution_count": null,
      "outputs": [
        {
          "output_type": "execute_result",
          "data": {
            "text/plain": [
              "tensor([1.5699, 4.2764, 2.0183, 5.0369], grad_fn=<SqueezeBackward0>)"
            ]
          },
          "metadata": {},
          "execution_count": 23
        }
      ]
    },
    {
      "cell_type": "markdown",
      "source": [
        "Better, but its still not getting us that close to $y$, however. What if we add another matrix in the middle?\n",
        " $$\\text{Old Model :} f_4(x) =A_2R(A_1x+b_1)+b_2\\, , A_2 \\, is \\, 1\\times 80 \\, and \\, A_1 \\, is \\, 80 \\times 2\\\\ \\text{New Model:} f_5 (x) =  A_3R(A_2(A_1X+b_1)+b_2)+b_3 \\, , A_3 \\, is \\, 1\\times 80 \\, and \\, A_2 = 80 \\times 80 \\, and \\, A_1 \\, is \\, 80 \\times 2$$ "
      ],
      "metadata": {
        "id": "hXttoAWJqsjn"
      }
    },
    {
      "cell_type": "code",
      "source": [
        "class MyNeuralNet5(nn.Module):\n",
        "    def __init__(self):\n",
        "        super().__init__()\n",
        "        self.Matrix1 = nn.Linear(2,80)\n",
        "        self.Matrix2 = nn.Linear(80,80)\n",
        "        self.Matrix3 = nn.Linear(80,1)\n",
        "        self.R = nn.ReLU()\n",
        "    def forward(self,x):\n",
        "        x = self.R(self.Matrix1(x))\n",
        "        x = self.R(self.Matrix2(x))\n",
        "        x = self.Matrix3(x)\n",
        "        return x.squeeze()\n",
        "\n",
        "x = torch.tensor([[6,2],[5,2],[1,3],[7,6]]).float()\n",
        "y = torch.tensor([1,5,2,5]).float()\n",
        "f5 = MyNeuralNet5()\n",
        "\n",
        "# Train model\n",
        "f5, losses5 = train_model(x,y,f5, n_epochs=5000)"
      ],
      "metadata": {
        "id": "BlxRu9qzqqaw"
      },
      "execution_count": null,
      "outputs": []
    },
    {
      "cell_type": "code",
      "source": [
        "y"
      ],
      "metadata": {
        "colab": {
          "base_uri": "https://localhost:8080/"
        },
        "id": "JhxQZ44PrpDL",
        "outputId": "da300e45-d581-485e-cab4-65d824eba6a6"
      },
      "execution_count": null,
      "outputs": [
        {
          "output_type": "execute_result",
          "data": {
            "text/plain": [
              "tensor([1., 5., 2., 5.])"
            ]
          },
          "metadata": {},
          "execution_count": 25
        }
      ]
    },
    {
      "cell_type": "code",
      "source": [
        "f5(x)"
      ],
      "metadata": {
        "colab": {
          "base_uri": "https://localhost:8080/"
        },
        "id": "JgPxEN4UrqcS",
        "outputId": "4313794a-0617-419b-9d60-a044de4ae3b2"
      },
      "execution_count": null,
      "outputs": [
        {
          "output_type": "execute_result",
          "data": {
            "text/plain": [
              "tensor([1.0003, 4.9997, 2.0000, 5.0001], grad_fn=<SqueezeBackward0>)"
            ]
          },
          "metadata": {},
          "execution_count": 26
        }
      ]
    },
    {
      "cell_type": "markdown",
      "source": [
        "Its predicting  almost exactly (albeit by overfitting, no doubt, but the message here is that the model has the potential to fit to these arbitrary data points, through a sequence of linear transofmrations followed by slightly non-linear )\n",
        "$\\require{color}$\n",
        "# The \"Sequential\" Neural Network\n",
        "A general \"sequential\" neural network can be expressed as\n",
        "$$\\colorbox{yellow}{$f(x) = \\cal{K}_{i = 1}^nr_i(A_ix+b_i)$}$$\n",
        "\n",
        "where  $\\cal{K}_{i = 1}^nr_i(A_ix+b_i) = f_n \\circ f_{n-1}... \\circ f_1(x) $\n",
        "  and the  are matrices and $A_i$ the $b_i$ are bias vectors. Typically the $R_i$ are the same for all the layers (typically ReLU) **except** for the last layer, where $R_i$ is just is just the identity function\n",
        "\n",
        "  * **Note**: In clever architectures, like convolutional neural networks, the 's become sparse matrices (most of there parameters are fixed to equal zero)."
      ],
      "metadata": {
        "id": "mMxMoRAIrxiw"
      }
    },
    {
      "cell_type": "code",
      "source": [],
      "metadata": {
        "id": "ECLzfkgYrrrJ"
      },
      "execution_count": null,
      "outputs": []
    }
  ]
}